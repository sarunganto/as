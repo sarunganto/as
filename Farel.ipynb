{
  "nbformat": 4,
  "nbformat_minor": 0,
  "metadata": {
    "colab": {
      "name": "Colab_25GBRAM_GPU.ipynb",
      "provenance": [],
      "collapsed_sections": [],
      "toc_visible": true,
      "machine_shape": "hm"
    },
    "kernelspec": {
      "name": "python3",
      "display_name": "Python 3"
    },
    "accelerator": "GPU",
    "widgets": {
      "application/vnd.jupyter.widget-state+json": {
        "968c7520614749919842c123865a09bc": {
          "model_module": "@jupyter-widgets/controls",
          "model_name": "LabelModel",
          "state": {
            "_view_name": "LabelView",
            "style": "IPY_MODEL_9c0eeb12e8034d16a528865df0d314dc",
            "_dom_classes": [],
            "description": "",
            "_model_name": "LabelModel",
            "placeholder": "​",
            "_view_module": "@jupyter-widgets/controls",
            "_model_module_version": "1.5.0",
            "value": "dpkg-exec: Running dpkg",
            "_view_count": null,
            "_view_module_version": "1.5.0",
            "description_tooltip": null,
            "_model_module": "@jupyter-widgets/controls",
            "layout": "IPY_MODEL_ac69082a4044459cb3d86926437c5eaa"
          }
        },
        "9c0eeb12e8034d16a528865df0d314dc": {
          "model_module": "@jupyter-widgets/controls",
          "model_name": "DescriptionStyleModel",
          "state": {
            "_view_name": "StyleView",
            "_model_name": "DescriptionStyleModel",
            "description_width": "",
            "_view_module": "@jupyter-widgets/base",
            "_model_module_version": "1.5.0",
            "_view_count": null,
            "_view_module_version": "1.2.0",
            "_model_module": "@jupyter-widgets/controls"
          }
        },
        "ac69082a4044459cb3d86926437c5eaa": {
          "model_module": "@jupyter-widgets/base",
          "model_name": "LayoutModel",
          "state": {
            "_view_name": "LayoutView",
            "grid_template_rows": null,
            "right": null,
            "justify_content": null,
            "_view_module": "@jupyter-widgets/base",
            "overflow": null,
            "_model_module_version": "1.2.0",
            "_view_count": null,
            "flex_flow": null,
            "width": null,
            "min_width": null,
            "border": null,
            "align_items": null,
            "bottom": null,
            "_model_module": "@jupyter-widgets/base",
            "top": null,
            "grid_column": null,
            "overflow_y": null,
            "overflow_x": null,
            "grid_auto_flow": null,
            "grid_area": null,
            "grid_template_columns": null,
            "flex": null,
            "_model_name": "LayoutModel",
            "justify_items": null,
            "grid_row": null,
            "max_height": null,
            "align_content": null,
            "visibility": null,
            "align_self": null,
            "height": null,
            "min_height": null,
            "padding": null,
            "grid_auto_rows": null,
            "grid_gap": null,
            "max_width": null,
            "order": null,
            "_view_module_version": "1.2.0",
            "grid_template_areas": null,
            "object_position": null,
            "object_fit": null,
            "grid_auto_columns": null,
            "margin": null,
            "display": null,
            "left": null
          }
        },
        "68eb1d68ad014c22b8bb972c1d924a8a": {
          "model_module": "@jupyter-widgets/controls",
          "model_name": "FloatProgressModel",
          "state": {
            "_view_name": "ProgressView",
            "style": "IPY_MODEL_d80dd1d2ade74fa18c5e95335f2bda35",
            "_dom_classes": [],
            "description": "",
            "_model_name": "FloatProgressModel",
            "bar_style": "",
            "max": 1,
            "_view_module": "@jupyter-widgets/controls",
            "_model_module_version": "1.5.0",
            "value": 0,
            "_view_count": null,
            "_view_module_version": "1.5.0",
            "orientation": "horizontal",
            "min": 0,
            "description_tooltip": null,
            "_model_module": "@jupyter-widgets/controls",
            "layout": "IPY_MODEL_ea0cc54185cc46d4aaa571d3052d1abe"
          }
        },
        "d80dd1d2ade74fa18c5e95335f2bda35": {
          "model_module": "@jupyter-widgets/controls",
          "model_name": "ProgressStyleModel",
          "state": {
            "_view_name": "StyleView",
            "_model_name": "ProgressStyleModel",
            "description_width": "",
            "_view_module": "@jupyter-widgets/base",
            "_model_module_version": "1.5.0",
            "_view_count": null,
            "_view_module_version": "1.2.0",
            "bar_color": null,
            "_model_module": "@jupyter-widgets/controls"
          }
        },
        "ea0cc54185cc46d4aaa571d3052d1abe": {
          "model_module": "@jupyter-widgets/base",
          "model_name": "LayoutModel",
          "state": {
            "_view_name": "LayoutView",
            "grid_template_rows": null,
            "right": null,
            "justify_content": null,
            "_view_module": "@jupyter-widgets/base",
            "overflow": null,
            "_model_module_version": "1.2.0",
            "_view_count": null,
            "flex_flow": null,
            "width": null,
            "min_width": null,
            "border": "1px solid #118800",
            "align_items": null,
            "bottom": null,
            "_model_module": "@jupyter-widgets/base",
            "top": null,
            "grid_column": null,
            "overflow_y": null,
            "overflow_x": null,
            "grid_auto_flow": null,
            "grid_area": null,
            "grid_template_columns": null,
            "flex": null,
            "_model_name": "LayoutModel",
            "justify_items": null,
            "grid_row": null,
            "max_height": null,
            "align_content": null,
            "visibility": null,
            "align_self": null,
            "height": null,
            "min_height": null,
            "padding": null,
            "grid_auto_rows": null,
            "grid_gap": null,
            "max_width": null,
            "order": null,
            "_view_module_version": "1.2.0",
            "grid_template_areas": null,
            "object_position": null,
            "object_fit": null,
            "grid_auto_columns": null,
            "margin": null,
            "display": null,
            "left": null
          }
        }
      }
    }
  },
  "cells": [
    {
      "cell_type": "markdown",
      "metadata": {
        "id": "EdHVQrqyDB50"
      },
      "source": [
        "# Memory Information"
      ]
    },
    {
      "cell_type": "code",
      "metadata": {
        "id": "E58HaeA6CsM9",
        "colab": {
          "base_uri": "https://localhost:8080/"
        },
        "outputId": "80b264c6-5c2a-4d47-fb56-5fda651e765f"
      },
      "source": [
        "import psutil\n",
        "def get_size(bytes, suffix=\"B\"):\n",
        "    factor = 1024\n",
        "    for unit in [\"\", \"K\", \"M\", \"G\", \"T\", \"P\"]:\n",
        "        if bytes < factor:\n",
        "            return f\"{bytes:.2f}{unit}{suffix}\"\n",
        "        bytes /= factor\n",
        "print(\"=\"*40, \"Memory Information\", \"=\"*40)\n",
        "svmem = psutil.virtual_memory()\n",
        "print(f\"Total: {get_size(svmem.total)}\") ; print(f\"Available: {get_size(svmem.available)}\")\n",
        "print(f\"Used: {get_size(svmem.used)}\") ; print(f\"Percentage: {svmem.percent}%\")"
      ],
      "execution_count": 1,
      "outputs": [
        {
          "output_type": "stream",
          "text": [
            "======================================== Memory Information ========================================\n",
            "Total: 12.72GB\n",
            "Available: 11.88GB\n",
            "Used: 578.73MB\n",
            "Percentage: 6.6%\n"
          ],
          "name": "stdout"
        }
      ]
    },
    {
      "cell_type": "markdown",
      "metadata": {
        "id": "FgVfBlvZDEja"
      },
      "source": [
        "# GPU Information"
      ]
    },
    {
      "cell_type": "code",
      "metadata": {
        "id": "rxlkxvkrCyin",
        "colab": {
          "base_uri": "https://localhost:8080/"
        },
        "outputId": "a42f2356-707a-4e41-830e-ac849c3b74df"
      },
      "source": [
        "! nvidia-smi"
      ],
      "execution_count": 4,
      "outputs": [
        {
          "output_type": "stream",
          "text": [
            "Fri Apr  9 08:12:35 2021       \n",
            "+-----------------------------------------------------------------------------+\n",
            "| NVIDIA-SMI 460.67       Driver Version: 460.32.03    CUDA Version: 11.2     |\n",
            "|-------------------------------+----------------------+----------------------+\n",
            "| GPU  Name        Persistence-M| Bus-Id        Disp.A | Volatile Uncorr. ECC |\n",
            "| Fan  Temp  Perf  Pwr:Usage/Cap|         Memory-Usage | GPU-Util  Compute M. |\n",
            "|                               |                      |               MIG M. |\n",
            "|===============================+======================+======================|\n",
            "|   0  Tesla T4            Off  | 00000000:00:04.0 Off |                    0 |\n",
            "| N/A   76C    P0    68W /  70W |   8969MiB / 15109MiB |    100%      Default |\n",
            "|                               |                      |                  N/A |\n",
            "+-------------------------------+----------------------+----------------------+\n",
            "                                                                               \n",
            "+-----------------------------------------------------------------------------+\n",
            "| Processes:                                                                  |\n",
            "|  GPU   GI   CI        PID   Type   Process name                  GPU Memory |\n",
            "|        ID   ID                                                   Usage      |\n",
            "|=============================================================================|\n",
            "+-----------------------------------------------------------------------------+\n"
          ],
          "name": "stdout"
        }
      ]
    },
    {
      "cell_type": "code",
      "metadata": {
        "id": "jyDODoaWC6KI",
        "colab": {
          "base_uri": "https://localhost:8080/",
          "height": 221,
          "referenced_widgets": [
            "968c7520614749919842c123865a09bc",
            "9c0eeb12e8034d16a528865df0d314dc",
            "ac69082a4044459cb3d86926437c5eaa",
            "68eb1d68ad014c22b8bb972c1d924a8a",
            "d80dd1d2ade74fa18c5e95335f2bda35",
            "ea0cc54185cc46d4aaa571d3052d1abe"
          ]
        },
        "cellView": "form",
        "outputId": "050a9534-dbe4-4fd6-86b7-6f72433d28ee"
      },
      "source": [
        "#@title SSH Rykerzz\n",
        "import apt, apt.debfile\n",
        "import pathlib, stat, shutil, urllib.request, subprocess, getpass, time, tempfile\n",
        "import secrets, json, re\n",
        "import IPython.utils.io\n",
        "import ipywidgets\n",
        "import socket\n",
        "import os\n",
        "from IPython.display import clear_output\n",
        "\n",
        "class _NoteProgress(apt.progress.base.InstallProgress, apt.progress.base.AcquireProgress, apt.progress.base.OpProgress):\n",
        "  def __init__(self):\n",
        "    apt.progress.base.InstallProgress.__init__(self)\n",
        "    self._label = ipywidgets.Label()\n",
        "    display(self._label)\n",
        "    self._float_progress = ipywidgets.FloatProgress(min = 0.0, max = 1.0, layout = {'border':'1px solid #118800'})\n",
        "    display(self._float_progress)\n",
        "\n",
        "  def close(self):\n",
        "    self._float_progress.close()\n",
        "    self._label.close()\n",
        "\n",
        "  def fetch(self, item):\n",
        "    self._label.value = \"fetch: \" + item.shortdesc\n",
        "\n",
        "  def pulse(self, owner):\n",
        "    self._float_progress.value = self.current_items / self.total_items\n",
        "    return True\n",
        "\n",
        "  def status_change(self, pkg, percent, status):\n",
        "    self._label.value = \"%s: %s\" % (pkg, status)\n",
        "    self._float_progress.value = percent / 100.0\n",
        "\n",
        "  def update(self, percent=None):\n",
        "    self._float_progress.value = self.percent / 100.0\n",
        "    self._label.value = self.op + \": \" + self.subop\n",
        "\n",
        "  def done(self, item=None):\n",
        "    pass\n",
        "\n",
        "class _MyApt:\n",
        "  def __init__(self):\n",
        "    self._progress = _NoteProgress()\n",
        "    self._cache = apt.Cache(self._progress)\n",
        "\n",
        "  def close(self):\n",
        "    self._cache.close()\n",
        "    self._cache = None\n",
        "    self._progress.close()\n",
        "    self._progress = None\n",
        "\n",
        "  def update_upgrade(self):\n",
        "    self._cache.update()\n",
        "    self._cache.open(None)\n",
        "    self._cache.upgrade()\n",
        "\n",
        "  def commit(self):\n",
        "    self._cache.commit(self._progress, self._progress)\n",
        "    self._cache.clear()\n",
        "\n",
        "  def installPkg(self, *args):\n",
        "    for name in args:\n",
        "      pkg = self._cache[name]\n",
        "      if pkg.is_installed:\n",
        "        print(f\"{name} is already installed\")\n",
        "      else:\n",
        "        pkg.mark_install()\n",
        "\n",
        "  def installDebPackage(self, name):\n",
        "    apt.debfile.DebPackage(name, self._cache).install()\n",
        "\n",
        "  def deleteInstalledPkg(self, *args):\n",
        "    for pkg in self._cache:\n",
        "      if pkg.is_installed:\n",
        "        for name in args:\n",
        "          if pkg.name.startswith(name):\n",
        "            #print(f\"Delete {pkg.name}\")\n",
        "            pkg.mark_delete()\n",
        "\n",
        "def _download(url, path):\n",
        "  try:\n",
        "    with urllib.request.urlopen(url) as response:\n",
        "      with open(path, 'wb') as outfile:\n",
        "        shutil.copyfileobj(response, outfile)\n",
        "  except:\n",
        "    print(\"Failed to download \", url)\n",
        "    raise\n",
        "\n",
        "  return True\n",
        "\n",
        "def _setupssh():\n",
        "  #Inpur Username\n",
        "  print(\"Create a username :\")\n",
        "  user_name = input()\n",
        "  subprocess.run([\"useradd\", \"-s\", \"/bin/bash\", \"-m\", user_name])\n",
        "  subprocess.run([\"adduser\", user_name, \"sudo\"], check = True)\n",
        "  clear_output()\n",
        "\n",
        "  #Inpur Password\n",
        "  print(\"Create a password :\")\n",
        "  user_password = getpass.getpass()\n",
        "  subprocess.run([\"chpasswd\"], input = f\"{user_name}:{user_password}\", universal_newlines = True)\n",
        "  clear_output()\n",
        "\n",
        "  #Set your ngrok Authtoken.\n",
        "  print(\"Copy & paste your tunnel authtoken from https://dashboard.ngrok.com/auth\")\n",
        "  print(\"(You need to sign up for ngrok and login.)\")\n",
        "  ngrok_token = getpass.getpass()\n",
        "  clear_output()\n",
        "\n",
        "  #Set your ngrok region.\n",
        "  print(\"Select your ngrok region :\")\n",
        "  print(\"us - United States (Ohio)\")\n",
        "  print(\"eu - Europe (Frankfurt)\")\n",
        "  print(\"ap - Asia/Pacific (Singapore)\")\n",
        "  print(\"au - Australia (Sydney)\")\n",
        "  print(\"sa - South America (Sao Paulo)\")\n",
        "  print(\"jp - Japan (Tokyo)\")\n",
        "  print(\"in - India (Mumbai)\")\n",
        "  ngrok_region = input()\n",
        "  clear_output()\n",
        "\n",
        "  #SSH Dropbear\n",
        "  my_apt = _MyApt()\n",
        "  my_apt.installPkg(\"dropbear\")\n",
        "  my_apt.commit()\n",
        "  my_apt.close()\n",
        "\n",
        "  #Set Dropbear\n",
        "  f = open(\"../etc/default/dropbear\", \"w\")\n",
        "  f.write(\"\"\"# the TCP port that Dropbear listens on\n",
        "DROPBEAR_PORT=443\n",
        "\n",
        "# any additional arguments for Dropbear\n",
        "DROPBEAR_EXTRA_ARGS=\n",
        "\n",
        "# specify an optional banner file containing a message to be\n",
        "# sent to clients before they connect, such as \"/etc/issue.net\"\n",
        "DROPBEAR_BANNER=\"\"\n",
        "\n",
        "# RSA hostkey file (default: /etc/dropbear/dropbear_rsa_host_key)\n",
        "#DROPBEAR_RSAKEY=\"/etc/dropbear/dropbear_rsa_host_key\"\n",
        "\n",
        "# DSS hostkey file (default: /etc/dropbear/dropbear_dss_host_key)\n",
        "#DROPBEAR_DSSKEY=\"/etc/dropbear/dropbear_dss_host_key\"\n",
        "\n",
        "# ECDSA hostkey file (default: /etc/dropbear/dropbear_ecdsa_host_key)\n",
        "#DROPBEAR_ECDSAKEY=\"/etc/dropbear/dropbear_ecdsa_host_key\"\n",
        "\n",
        "# Receive window size - this is a tradeoff between memory and\n",
        "# network performance\n",
        "DROPBEAR_RECEIVE_WINDOW=65536\n",
        "\"\"\")\n",
        "  f.close()\n",
        "\n",
        "  #SSH Service Restart\n",
        "  subprocess.run([\"service\", \"dropbear\", \"restart\"])\n",
        "\n",
        "  #Root Password\n",
        "  root_password = user_password\n",
        "  subprocess.run([\"chpasswd\"], input = f\"root:{root_password}\", universal_newlines = True)\n",
        "\n",
        "  # Ngrok Tunnel\n",
        "  if not os.path.exists('ngrok.zip'):\n",
        "    _download(\"https://bin.equinox.io/c/4VmDzA7iaHb/ngrok-stable-linux-amd64.zip\", \"ngrok.zip\")\n",
        "    shutil.unpack_archive(\"ngrok.zip\")\n",
        "    pathlib.Path(\"ngrok\").chmod(stat.S_IXUSR)\n",
        "\n",
        "  subprocess.run([\"./ngrok\", \"authtoken\", ngrok_token])\n",
        "  ngrok_proc = subprocess.Popen([\"./ngrok\", \"tcp\", \"-region\", ngrok_region, \"443\"])\n",
        "  time.sleep(2)\n",
        "\n",
        "  with urllib.request.urlopen(\"http://localhost:4040/api/tunnels\") as response:\n",
        "    url = json.load(response)['tunnels'][0]['public_url']\n",
        "    m = re.match(\"tcp://(.+):(\\d+)\", url)\n",
        "\n",
        "  hostname = m.group(1)\n",
        "  port = m.group(2)\n",
        "  \n",
        "  msg = \"\"\n",
        "  msg += \"=\"*48 + \"\\n\"\n",
        "  msg += \"Command to connect to the ssh server:\\n\"\n",
        "  msg += f\"ssh -p {port} {user_name}@{socket.gethostbyname(hostname)}\\n\"\n",
        "  msg += \"=\"*48 + \"\\n\"\n",
        "  msg += \"SSH Login Termux and Git bash:\\n\"\n",
        "  msg += f\"host          : ssh -p {port} {user_name}@{socket.gethostbyname(hostname)}\\n\"\n",
        "  msg += f\"Username      : {user_name}\\n\"\n",
        "  msg += f\"Password      : {user_password}\\n\"\n",
        "  msg += f\"Subscribe     : https://www.youtube.com/c/BangAndroid10\\n\"\n",
        "  msg += \"=\"*48 + \"\\n\"\n",
        "  return msg\n",
        "\n",
        "def startColab():\n",
        "  msg = _setupssh()\n",
        "  print(msg)\n",
        "\n",
        "startColab()"
      ],
      "execution_count": 5,
      "outputs": [
        {
          "output_type": "display_data",
          "data": {
            "application/vnd.jupyter.widget-view+json": {
              "model_id": "968c7520614749919842c123865a09bc",
              "version_minor": 0,
              "version_major": 2
            },
            "text/plain": [
              "Label(value='')"
            ]
          },
          "metadata": {
            "tags": []
          }
        },
        {
          "output_type": "display_data",
          "data": {
            "application/vnd.jupyter.widget-view+json": {
              "model_id": "68eb1d68ad014c22b8bb972c1d924a8a",
              "version_minor": 0,
              "version_major": 2
            },
            "text/plain": [
              "FloatProgress(value=0.0, layout=Layout(border='1px solid #118800'), max=1.0)"
            ]
          },
          "metadata": {
            "tags": []
          }
        },
        {
          "output_type": "stream",
          "text": [
            "dropbear is already installed\n",
            "================================================\n",
            "Command to connect to the ssh server:\n",
            "ssh -p 14665 asu@52.220.121.212\n",
            "================================================\n",
            "SSH Login Termux and Git bash:\n",
            "host          : ssh -p 14665 asu@52.220.121.212\n",
            "Username      : asu\n",
            "Password      :  \n",
            "Subscribe     : https://www.youtube.com/c/BangAndroid10\n",
            "================================================\n",
            "\n"
          ],
          "name": "stdout"
        }
      ]
    }
  ]
}
